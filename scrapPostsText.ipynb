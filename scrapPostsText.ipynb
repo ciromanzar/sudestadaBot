{
 "cells": [
  {
   "cell_type": "code",
   "execution_count": 2,
   "metadata": {},
   "outputs": [],
   "source": [
    "from instagramy import InstagramUser, InstagramPost\n",
    "import numpy as np"
   ]
  },
  {
   "cell_type": "code",
   "execution_count": 3,
   "metadata": {},
   "outputs": [],
   "source": [
    "postIDs = np.genfromtxt('postIDs5232.csv', delimiter=',', dtype=str)"
   ]
  },
  {
   "cell_type": "code",
   "execution_count": 5,
   "metadata": {},
   "outputs": [
    {
     "data": {
      "text/plain": [
       "5232"
      ]
     },
     "execution_count": 5,
     "metadata": {},
     "output_type": "execute_result"
    }
   ],
   "source": [
    "len(postIDs)"
   ]
  },
  {
   "cell_type": "code",
   "execution_count": 6,
   "metadata": {},
   "outputs": [],
   "source": [
    "session_id = \"1408179935%3Ak3AMYHFiwthWyU%3A23\"\n",
    "\n",
    "texts = []\n",
    "for postID in postIDs:\n",
    "    post = InstagramPost(postID, sessionid=session_id)\n",
    "    texts.append(post.text)"
   ]
  },
  {
   "cell_type": "code",
   "execution_count": 7,
   "metadata": {},
   "outputs": [
    {
     "data": {
      "text/plain": [
       "['BERNI, EL PELIGROSO SOS VOS\\n(Y otro papelón del Ministro de Seguridad bonaerense)\\n \\n\"Una sombrilla en la plaza es un elemento peligroso. Hay que preguntarse si el que puso la sombrilla no evaluó que una ráfaga de viento se la podía levantar\", se animó a culpar en su insólita defensa cuando le preguntaron sobre el temerario vuelo a pocos metros de la gente en una playa de Villa Gesell los últimos días. Es que Sergio Berni no solo se asocia al discurso reaccionario, el exabrupto y la mano dura, el papelón en sus spots donde se intenta construir una épica con música e imágenes mesiánicas, ya son moneda corriente en la política argentina. Esta vez sobrevoló en helicóptero la costa atlántica, a muy baja altura de los turistas, generando pánico y malestar sobre las familias que disfrutaban de la playa mientras ensayaba otro spot sobre su figura engominada. Es así que se observan en distintos registros como salen volando las pertenencias de las familias, e incluso sombrillas y carpas, con lo peligroso que puede ser. Al respecto Berni manifestó que observaron un tumulto desde el aire de más de 300 jóvenes que parecía una pelea y decidieron acercarse para disuadir. “Cuando nos acercamos notamos que estaban bailando\", se sinceró el ministro dejando en claro hacia donde apunta su brújula del miedo. Jamás hacia su propia fuerza que fusila pibes por las dudas o los \"suicida\" en las comisarías, mucho menos a los patrulleros desbocados atropellando gente por las dudas. Sergio Berni: las sombrillas en las playas no son peligrosas y tampoco pibes y pibas bailando en las playa, el peligroso sos vos sostenido en la gestión.\\n \\n#RevistaSudestada']"
      ]
     },
     "execution_count": 7,
     "metadata": {},
     "output_type": "execute_result"
    }
   ],
   "source": [
    "texts"
   ]
  }
 ],
 "metadata": {
  "kernelspec": {
   "display_name": "Python 3",
   "language": "python",
   "name": "python3"
  },
  "language_info": {
   "codemirror_mode": {
    "name": "ipython",
    "version": 3
   },
   "file_extension": ".py",
   "mimetype": "text/x-python",
   "name": "python",
   "nbconvert_exporter": "python",
   "pygments_lexer": "ipython3",
   "version": "3.8.5"
  }
 },
 "nbformat": 4,
 "nbformat_minor": 4
}
