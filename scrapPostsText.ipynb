{
 "cells": [
  {
   "cell_type": "code",
   "execution_count": 49,
   "metadata": {},
   "outputs": [],
   "source": [
    "from selenium import webdriver\n",
    "from selenium.webdriver.common.keys import Keys\n",
    "from selenium.webdriver.support import expected_conditions as EC\n",
    "from selenium.webdriver.common.by import By\n",
    "from selenium.webdriver.support.wait import WebDriverWait\n",
    "import time\n",
    "from random import random\n",
    "import numpy as np"
   ]
  },
  {
   "cell_type": "code",
   "execution_count": 50,
   "metadata": {},
   "outputs": [],
   "source": [
    "USERNAME = 'vovam59626'\n",
    "PASSWORD = '59626vovam'"
   ]
  },
  {
   "cell_type": "code",
   "execution_count": 51,
   "metadata": {},
   "outputs": [
    {
     "data": {
      "text/plain": [
       "5232"
      ]
     },
     "execution_count": 51,
     "metadata": {},
     "output_type": "execute_result"
    }
   ],
   "source": [
    "postIDs = np.genfromtxt('postIDs5232.csv', delimiter=',', dtype=str)\n",
    "len(postIDs)"
   ]
  },
  {
   "cell_type": "code",
   "execution_count": 52,
   "metadata": {},
   "outputs": [
    {
     "ename": "IndexError",
     "evalue": "list index out of range",
     "output_type": "error",
     "traceback": [
      "\u001b[0;31m---------------------------------------------------------------------------\u001b[0m",
      "\u001b[0;31mIndexError\u001b[0m                                Traceback (most recent call last)",
      "\u001b[0;32m<ipython-input-52-671e3fa58770>\u001b[0m in \u001b[0;36m<module>\u001b[0;34m\u001b[0m\n\u001b[1;32m     27\u001b[0m \u001b[0;32mfor\u001b[0m \u001b[0mpostID\u001b[0m \u001b[0;32min\u001b[0m \u001b[0mpostIDs\u001b[0m\u001b[0;34m:\u001b[0m\u001b[0;34m\u001b[0m\u001b[0;34m\u001b[0m\u001b[0m\n\u001b[1;32m     28\u001b[0m     \u001b[0mdriver\u001b[0m\u001b[0;34m.\u001b[0m\u001b[0mget\u001b[0m\u001b[0;34m(\u001b[0m\u001b[0;34m\"http://www.instagram.com/p/{0}/\"\u001b[0m\u001b[0;34m.\u001b[0m\u001b[0mformat\u001b[0m\u001b[0;34m(\u001b[0m\u001b[0mpostID\u001b[0m\u001b[0;34m)\u001b[0m\u001b[0;34m)\u001b[0m\u001b[0;34m\u001b[0m\u001b[0;34m\u001b[0m\u001b[0m\n\u001b[0;32m---> 29\u001b[0;31m     \u001b[0melement\u001b[0m \u001b[0;34m=\u001b[0m \u001b[0mdriver\u001b[0m\u001b[0;34m.\u001b[0m\u001b[0mfind_elements\u001b[0m\u001b[0;34m(\u001b[0m\u001b[0mBy\u001b[0m\u001b[0;34m.\u001b[0m\u001b[0mCLASS_NAME\u001b[0m\u001b[0;34m,\u001b[0m\u001b[0;34m\"P9YgZ\"\u001b[0m\u001b[0;34m)\u001b[0m\u001b[0;34m[\u001b[0m\u001b[0;36m0\u001b[0m\u001b[0;34m]\u001b[0m\u001b[0;34m.\u001b[0m\u001b[0mfind_elements\u001b[0m\u001b[0;34m(\u001b[0m\u001b[0mBy\u001b[0m\u001b[0;34m.\u001b[0m\u001b[0mCLASS_NAME\u001b[0m\u001b[0;34m,\u001b[0m\u001b[0;34m\"C4VMK\"\u001b[0m\u001b[0;34m)\u001b[0m\u001b[0;34m\u001b[0m\u001b[0;34m\u001b[0m\u001b[0m\n\u001b[0m\u001b[1;32m     30\u001b[0m     \u001b[0mtexts\u001b[0m\u001b[0;34m.\u001b[0m\u001b[0mappend\u001b[0m\u001b[0;34m(\u001b[0m\u001b[0melement\u001b[0m\u001b[0;34m[\u001b[0m\u001b[0;36m0\u001b[0m\u001b[0;34m]\u001b[0m\u001b[0;34m.\u001b[0m\u001b[0mfind_elements\u001b[0m\u001b[0;34m(\u001b[0m\u001b[0mBy\u001b[0m\u001b[0;34m.\u001b[0m\u001b[0mTAG_NAME\u001b[0m\u001b[0;34m,\u001b[0m \u001b[0;34m'span'\u001b[0m\u001b[0;34m)\u001b[0m\u001b[0;34m[\u001b[0m\u001b[0;36m1\u001b[0m\u001b[0;34m]\u001b[0m\u001b[0;34m.\u001b[0m\u001b[0mtext\u001b[0m\u001b[0;34m)\u001b[0m\u001b[0;34m\u001b[0m\u001b[0;34m\u001b[0m\u001b[0m\n\u001b[1;32m     31\u001b[0m     \u001b[0mtime\u001b[0m\u001b[0;34m.\u001b[0m\u001b[0msleep\u001b[0m\u001b[0;34m(\u001b[0m\u001b[0;36m0.5\u001b[0m \u001b[0;34m+\u001b[0m \u001b[0;34m(\u001b[0m\u001b[0mrandom\u001b[0m\u001b[0;34m(\u001b[0m\u001b[0;34m)\u001b[0m \u001b[0;34m*\u001b[0m \u001b[0;36m0.5\u001b[0m \u001b[0;34m)\u001b[0m\u001b[0;34m)\u001b[0m\u001b[0;34m\u001b[0m\u001b[0;34m\u001b[0m\u001b[0m\n",
      "\u001b[0;31mIndexError\u001b[0m: list index out of range"
     ]
    }
   ],
   "source": [
    "#specify the path to chromedriver.exe (download and save on your computer)\n",
    "driver = webdriver.Chrome()\n",
    "\n",
    "#open the webpage\n",
    "driver.get(\"http://www.instagram.com\")\n",
    "\n",
    "#target username\n",
    "username = WebDriverWait(driver, 10).until(EC.element_to_be_clickable((By.CSS_SELECTOR, \"input[name='username']\")))\n",
    "password = WebDriverWait(driver, 10).until(EC.element_to_be_clickable((By.CSS_SELECTOR, \"input[name='password']\")))\n",
    "\n",
    "#enter username and password\n",
    "username.clear()\n",
    "username.send_keys(USERNAME)\n",
    "password.clear()\n",
    "password.send_keys(PASSWORD)\n",
    "\n",
    "#target the login button and click it\n",
    "button = WebDriverWait(driver, 2).until(EC.element_to_be_clickable((By.CSS_SELECTOR, \"button[type='submit']\"))).click()\n",
    "\n",
    "time.sleep(5)\n",
    "alert = WebDriverWait(driver, 15).until(EC.element_to_be_clickable((By.XPATH, '//button[contains(text(), \"Not Now\")]'))).click()\n",
    "time.sleep(3)\n",
    "alert2 = WebDriverWait(driver, 15).until(EC.element_to_be_clickable((By.XPATH, '//button[contains(text(), \"Not Now\")]'))).click()\n",
    "time.sleep(3)\n",
    "\n",
    "texts = []\n",
    "for postID in postIDs:\n",
    "    driver.get(\"http://www.instagram.com/p/{0}/\".format(postID))\n",
    "    element = driver.find_elements(By.CLASS_NAME,\"P9YgZ\")[0].find_elements(By.CLASS_NAME,\"C4VMK\")\n",
    "    texts.append(element[0].find_elements(By.TAG_NAME, 'span')[1].text)\n",
    "    time.sleep(0.5 + (random() * 0.5 ))"
   ]
  },
  {
   "cell_type": "code",
   "execution_count": 78,
   "metadata": {},
   "outputs": [
    {
     "data": {
      "text/plain": [
       "'BERNI, EL PELIGROSO SOS VOS\\n(Y otro papelón del Ministro de Seguridad bonaerense)\\n\\n\"Una sombrilla en la plaza es un elemento peligroso. Hay que preguntarse si el que puso la sombrilla no evaluó que una ráfaga de viento se la podía levantar\", se animó a culpar en su insólita defensa cuando le preguntaron sobre el temerario vuelo a pocos metros de la gente en una playa de Villa Gesell los últimos días. Es que Sergio Berni no solo se asocia al discurso reaccionario, el exabrupto y la mano dura, el papelón en sus spots donde se intenta construir una épica con música e imágenes mesiánicas, ya son moneda corriente en la política argentina. Esta vez sobrevoló en helicóptero la costa atlántica, a muy baja altura de los turistas, generando pánico y malestar sobre las familias que disfrutaban de la playa mientras ensayaba otro spot sobre su figura engominada. Es así que se observan en distintos registros como salen volando las pertenencias de las familias, e incluso sombrillas y carpas, con lo peligroso que puede ser. Al respecto Berni manifestó que observaron un tumulto desde el aire de más de 300 jóvenes que parecía una pelea y decidieron acercarse para disuadir. “Cuando nos acercamos notamos que estaban bailando\", se sinceró el ministro dejando en claro hacia donde apunta su brújula del miedo. Jamás hacia su propia fuerza que fusila pibes por las dudas o los \"suicida\" en las comisarías, mucho menos a los patrulleros desbocados atropellando gente por las dudas. Sergio Berni: las sombrillas en las playas no son peligrosas y tampoco pibes y pibas bailando en las playa, el peligroso sos vos sostenido en la gestión.\\n\\n#RevistaSudestada'"
      ]
     },
     "execution_count": 78,
     "metadata": {},
     "output_type": "execute_result"
    }
   ],
   "source": [
    "len(texts)\n",
    "texts[0]"
   ]
  },
  {
   "cell_type": "code",
   "execution_count": 90,
   "metadata": {},
   "outputs": [
    {
     "data": {
      "text/plain": [
       "1210"
      ]
     },
     "execution_count": 90,
     "metadata": {},
     "output_type": "execute_result"
    }
   ],
   "source": [
    "import pickle\n",
    "with open(\"postTexts1210.txt\", \"wb\") as fp:   #Pickling\n",
    "    pickle.dump(texts, fp)\n",
    " \n",
    "with open(\"postTexts1210.txt\", \"rb\") as fp:   # Unpickling\n",
    "    b = pickle.load(fp)\n",
    "    \n",
    "len(b)"
   ]
  },
  {
   "cell_type": "code",
   "execution_count": 91,
   "metadata": {},
   "outputs": [
    {
     "data": {
      "text/plain": [
       "'BERNI, EL PELIGROSO SOS VOS\\n(Y otro papelón del Ministro de Seguridad bonaerense)\\n\\n\"Una sombrilla en la plaza es un elemento peligroso. Hay que preguntarse si el que puso la sombrilla no evaluó que una ráfaga de viento se la podía levantar\", se animó a culpar en su insólita defensa cuando le preguntaron sobre el temerario vuelo a pocos metros de la gente en una playa de Villa Gesell los últimos días. Es que Sergio Berni no solo se asocia al discurso reaccionario, el exabrupto y la mano dura, el papelón en sus spots donde se intenta construir una épica con música e imágenes mesiánicas, ya son moneda corriente en la política argentina. Esta vez sobrevoló en helicóptero la costa atlántica, a muy baja altura de los turistas, generando pánico y malestar sobre las familias que disfrutaban de la playa mientras ensayaba otro spot sobre su figura engominada. Es así que se observan en distintos registros como salen volando las pertenencias de las familias, e incluso sombrillas y carpas, con lo peligroso que puede ser. Al respecto Berni manifestó que observaron un tumulto desde el aire de más de 300 jóvenes que parecía una pelea y decidieron acercarse para disuadir. “Cuando nos acercamos notamos que estaban bailando\", se sinceró el ministro dejando en claro hacia donde apunta su brújula del miedo. Jamás hacia su propia fuerza que fusila pibes por las dudas o los \"suicida\" en las comisarías, mucho menos a los patrulleros desbocados atropellando gente por las dudas. Sergio Berni: las sombrillas en las playas no son peligrosas y tampoco pibes y pibas bailando en las playa, el peligroso sos vos sostenido en la gestión.\\n\\n#RevistaSudestada'"
      ]
     },
     "execution_count": 91,
     "metadata": {},
     "output_type": "execute_result"
    }
   ],
   "source": [
    "b[0]"
   ]
  }
 ],
 "metadata": {
  "kernelspec": {
   "display_name": "Python 3",
   "language": "python",
   "name": "python3"
  },
  "language_info": {
   "codemirror_mode": {
    "name": "ipython",
    "version": 3
   },
   "file_extension": ".py",
   "mimetype": "text/x-python",
   "name": "python",
   "nbconvert_exporter": "python",
   "pygments_lexer": "ipython3",
   "version": "3.8.5"
  }
 },
 "nbformat": 4,
 "nbformat_minor": 4
}
